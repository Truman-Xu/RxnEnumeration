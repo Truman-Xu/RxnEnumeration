{
 "cells": [
  {
   "cell_type": "code",
   "execution_count": 1,
   "id": "objective-killer",
   "metadata": {},
   "outputs": [],
   "source": [
    "import pickle\n",
    "import tmap as tm\n",
    "import numpy as np\n",
    "from faerun import Faerun\n",
    "from matplotlib import pyplot as plt\n",
    "from matplotlib.colors import ListedColormap\n",
    "import matplotlib.cm as cm\n",
    "import pandas as pd\n",
    "\n",
    "from rdkit import Chem\n",
    "from rdkit.Chem import AllChem"
   ]
  },
  {
   "cell_type": "code",
   "execution_count": 2,
   "id": "large-deposit",
   "metadata": {},
   "outputs": [
    {
     "name": "stdout",
     "output_type": "stream",
     "text": [
      "431326\n",
      "431326\n",
      "713866\n",
      "713866\n",
      "11715\n",
      "11715\n",
      "82319\n",
      "82319\n"
     ]
    }
   ],
   "source": [
    "df = []\n",
    "for x in ['Amine', 'Carboxyl', 'Boronate', 'Bromo']:\n",
    "    with open('{}FPS.pickle'.format(x),'rb') as p:\n",
    "        fps = pickle.load(p)\n",
    "        print(len(fps))\n",
    "    cur_df = pd.read_csv('all{}Prods.csv'.format(x))\n",
    "    cur_df['ReagB'] = x\n",
    "    print(len(cur_df))\n",
    "    cur_df['FPS'] = fps\n",
    "    df.append(cur_df) \n",
    "df = pd.concat(df)"
   ]
  },
  {
   "cell_type": "code",
   "execution_count": 8,
   "id": "restricted-limitation",
   "metadata": {},
   "outputs": [],
   "source": [
    "df.drop(columns = ['FPS']).to_csv('AllProds.csv',index = False)"
   ]
  },
  {
   "cell_type": "code",
   "execution_count": 4,
   "id": "supported-ordinance",
   "metadata": {},
   "outputs": [],
   "source": [
    "from tqdm.contrib.concurrent import process_map\n",
    "from mhfp.encoder import MHFPEncoder\n",
    "\n",
    "# Wrapper function for pickling process_map for multiprocessing\n",
    "def cal_fp(smi):\n",
    "    fp = enc.encode_mol(Chem.MolFromSmiles(smi))\n",
    "    return fp"
   ]
  },
  {
   "cell_type": "code",
   "execution_count": 4,
   "id": "geological-galaxy",
   "metadata": {},
   "outputs": [
    {
     "data": {
      "application/vnd.jupyter.widget-view+json": {
       "model_id": "72fb1fddf02e4eb597c8bdf4850cebc1",
       "version_major": 2,
       "version_minor": 0
      },
      "text/plain": [
       "HBox(children=(FloatProgress(value=0.0, max=82319.0), HTML(value='')))"
      ]
     },
     "metadata": {},
     "output_type": "display_data"
    },
    {
     "name": "stdout",
     "output_type": "stream",
     "text": [
      "\n"
     ]
    }
   ],
   "source": [
    "enc = MHFPEncoder(1024)\n",
    "fps = process_map(cal_fp, \n",
    "                  df['Smiles'], \n",
    "                  chunksize = 100, \n",
    "                  max_workers = 20)"
   ]
  },
  {
   "cell_type": "code",
   "execution_count": 5,
   "id": "acting-worth",
   "metadata": {},
   "outputs": [],
   "source": [
    "with open('BromoFPS.pickle','wb') as f:\n",
    "        pickle.dump(fps,f)"
   ]
  },
  {
   "cell_type": "code",
   "execution_count": 6,
   "id": "freelance-syndrome",
   "metadata": {},
   "outputs": [
    {
     "name": "stdout",
     "output_type": "stream",
     "text": [
      "1239226 Fingerprints Converted\n"
     ]
    }
   ],
   "source": [
    "fps = [tm.VectorUint(fp) for fp in df['FPS']]\n",
    "print(len(fps),'Fingerprints Converted')"
   ]
  },
  {
   "cell_type": "code",
   "execution_count": 7,
   "id": "sealed-instruction",
   "metadata": {},
   "outputs": [],
   "source": [
    "lf = tm.LSHForest(512, 64)\n",
    "lf.batch_add(fps)\n",
    "lf.index()\n",
    "lf.store(\"lf_All_Prods.dat\")"
   ]
  },
  {
   "cell_type": "markdown",
   "id": "informal-worth",
   "metadata": {},
   "source": [
    "### Load Data"
   ]
  },
  {
   "cell_type": "code",
   "execution_count": 2,
   "id": "incorporate-mexican",
   "metadata": {},
   "outputs": [],
   "source": [
    "df = pd.read_csv('AllProds.csv')\n",
    "lf = tm.LSHForest(512, 64)\n",
    "lf.restore(\"lf_All_Prods.dat\")\n",
    "lf.index()"
   ]
  },
  {
   "cell_type": "code",
   "execution_count": 3,
   "id": "tested-small",
   "metadata": {},
   "outputs": [],
   "source": [
    "# Create a LayoutConfiguration instance\n",
    "cfg = tm.LayoutConfiguration()\n",
    "cfg.node_size = 1/10\n",
    "cfg.mmm_repeats = 2\n",
    "cfg.sl_extra_scaling_steps = 8\n",
    "cfg.k = 10\n",
    "cfg.sl_scaling_type = tm.RelativeToAvgLength\n",
    "\n",
    "#Create minimum spanning tree from the LSHForest and LayoutConfiguration instance\n",
    "#The x and y coordinates of the vertices, the ids of the vertices spanning the edges\n",
    "#information on the graph is ignored\n",
    "\n",
    "x, y, s, t, _ = tm.layout_from_lsh_forest(lf, cfg)"
   ]
  },
  {
   "cell_type": "code",
   "execution_count": 4,
   "id": "trained-dallas",
   "metadata": {},
   "outputs": [],
   "source": [
    "x = list(x)\n",
    "y = list(y)\n",
    "s = list(s)\n",
    "t = list(t)\n",
    "with open(\"all_coords.dat\",\"wb\") as f:\n",
    "    pickle.dump((x,y,s,t),f)"
   ]
  },
  {
   "cell_type": "code",
   "execution_count": 12,
   "id": "first-piano",
   "metadata": {},
   "outputs": [],
   "source": [
    "hsv_4 = ListedColormap(cm.hsv(np.linspace(0,0.75,4)), name=\"hsv_4\")\n",
    "ReagB_labels, ReagB_data = Faerun.create_categories(df[\"ReagB\"])"
   ]
  },
  {
   "cell_type": "code",
   "execution_count": 21,
   "id": "prescription-fifth",
   "metadata": {
    "collapsed": true,
    "jupyter": {
     "outputs_hidden": true
    }
   },
   "outputs": [
    {
     "data": {
      "text/html": [
       "\n",
       "        <iframe\n",
       "            width=\"100%\"\n",
       "            height=\"500\"\n",
       "            src=\"./All_Products_2D_Space_2.html\"\n",
       "            frameborder=\"0\"\n",
       "            allowfullscreen\n",
       "        ></iframe>\n",
       "        "
      ],
      "text/plain": [
       "<IPython.lib.display.IFrame at 0x7f97bf9dc0d0>"
      ]
     },
     "metadata": {},
     "output_type": "display_data"
    },
    {
     "data": {
      "text/html": [
       "<a href='./All_Products_2D_Space_2.html' target='_blank'>./All_Products_2D_Space_2.html</a><br>"
      ],
      "text/plain": [
       "/home/ziqiaoxu/enum/RxnEnumeration/CH-enum/All_Products_2D_Space_2.html"
      ]
     },
     "metadata": {},
     "output_type": "display_data"
    }
   ],
   "source": [
    "f = Faerun(view=\"front\", alpha_blending=True, coords=False)\n",
    "f.add_scatter(\n",
    "    # No space in the string allowed for the name, use underscore!!\n",
    "    # Cannot start with a number, it has to be a letter!!\n",
    "    # My guess is that the string is to be converted to a variable name, \n",
    "    # therefore it has to be compatible with python/javascript variable naming scheme\n",
    "    \"All_Products\",\n",
    "    {\n",
    "        \"x\": x,\n",
    "        \"y\": y,\n",
    "        \"c\": [\n",
    "            ReagB_data,\n",
    "            df['MolWt'],\n",
    "            df['LogP'],\n",
    "            df['QED'],\n",
    "            df['HBA'],\n",
    "            df['HBD']\n",
    "        ],\n",
    "        \"labels\": df['Smiles'],  # Specify the label used for toggle window here\n",
    "    },\n",
    "    shader=\"smoothCircle\",\n",
    "    point_scale=0.5,\n",
    "    max_point_size=5,\n",
    "    categorical=[\n",
    "                True,\n",
    "                 False, \n",
    "                 False, \n",
    "                 False, \n",
    "                 False, \n",
    "                 False,\n",
    "    ],\n",
    "    colormap=[\n",
    "        hsv_4,\n",
    "        \"rainbow\", \n",
    "        \"rainbow\", \n",
    "        \"rainbow\",\n",
    "        \"rainbow\", \n",
    "        \"rainbow\" \n",
    "    ],\n",
    "    \n",
    "    series_title=[\n",
    "        \"Molecular Weight\",\n",
    "        \"Lipophilicity\",\n",
    "        \"Quantitative Estimate of Druglikeness\",\n",
    "        \"Hydrogen Bond Donor\",\n",
    "        \"Hydrogen Bond Acceptor\",\n",
    "    ],\n",
    "    has_legend=True, # Show the legend on the lower right corner\n",
    "    legend_labels=[ReagB_labels]\n",
    ")\n",
    "\n",
    "# The first character of the name has to be a letter!\n",
    "f.add_tree(\"All_Products_tree\", {\"from\": s, \"to\": t}, point_helper=\"All_Products\")\n",
    "\n",
    "f.plot('All_Products'+'_2D_Space_2', # name of the .html file\n",
    "       template=\"smiles\")"
   ]
  },
  {
   "cell_type": "code",
   "execution_count": null,
   "id": "minute-junior",
   "metadata": {},
   "outputs": [],
   "source": []
  }
 ],
 "metadata": {
  "kernelspec": {
   "display_name": "Python (tmap)",
   "language": "python",
   "name": "tmap"
  },
  "language_info": {
   "codemirror_mode": {
    "name": "ipython",
    "version": 3
   },
   "file_extension": ".py",
   "mimetype": "text/x-python",
   "name": "python",
   "nbconvert_exporter": "python",
   "pygments_lexer": "ipython3",
   "version": "3.7.7"
  }
 },
 "nbformat": 4,
 "nbformat_minor": 5
}
